{
 "cells": [
  {
   "cell_type": "code",
   "execution_count": 64,
   "metadata": {},
   "outputs": [
    {
     "data": {
      "text/plain": [
       "0.8888888888888888"
      ]
     },
     "execution_count": 64,
     "metadata": {},
     "output_type": "execute_result"
    }
   ],
   "source": [
    "import pandas as pd\n",
    "from sklearn.tree import DecisionTreeClassifier\n",
    "from sklearn.model_selection import train_test_split\n",
    "from sklearn.metrics import accuracy_score\n",
    "from sklearn import tree\n",
    "import joblib\n",
    "\n",
    "diabeties_data = pd.read_csv('diabetes.csv')\n",
    "testing_data = pd.read_csv('excluded_samples.csv')\n",
    "\n",
    "data_in = diabeties_data.drop(columns=['Outcome'])\n",
    "data_out = diabeties_data['Outcome']\n",
    "\n",
    "model = DecisionTreeClassifier()\n",
    "model.fit(data_in, data_out)\n",
    "\n",
    "joblib.dump(model, 'trained_data.joblib')\n",
    "\n",
    "trained_model = joblib.load('trained_data.joblib')\n",
    "\n",
    "testing_input = testing_data.drop(columns=['Outcome'])\n",
    "testing_output = testing_data['Outcome']\n",
    "\n",
    "#checking 10th row of file 'excluded_samples.csv'\n",
    "predictions = trained_model.predict(testing_input)\n",
    "\n",
    "score = accuracy_score(testing_output, predictions)\n",
    "score\n"
   ]
  }
 ],
 "metadata": {
  "kernelspec": {
   "display_name": "Python 3",
   "language": "python",
   "name": "python3"
  },
  "language_info": {
   "codemirror_mode": {
    "name": "ipython",
    "version": 3
   },
   "file_extension": ".py",
   "mimetype": "text/x-python",
   "name": "python",
   "nbconvert_exporter": "python",
   "pygments_lexer": "ipython3",
   "version": "3.8.5"
  }
 },
 "nbformat": 4,
 "nbformat_minor": 4
}
